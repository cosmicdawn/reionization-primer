{
 "cells": [
  {
   "cell_type": "markdown",
   "metadata": {},
   "source": [
    "# Primer on the Epoch of Reionization\n",
    "\n",
    "In this series of notebooks I attempt to show the general *mathematical and computational* idea behind simulating the EoR using excursion set formalism. This approach is computationally much cheaper compared to the radiation transfer simulation. The excursion set formalism was first proposed to be used in this context by [Fulanetto et al. (2004)](https://ui.adsabs.harvard.edu/#abs/2004ApJ...613....1F/abstract). Since then it was refined and modified in different ways. Probably the most popular implementation of this algorithm is [21cmFAST](https://ui.adsabs.harvard.edu/#abs/2011MNRAS.411..955M/abstract).\n",
    "\n",
    "If you need a general introduction to the physics of reionization, you can start with [Pritchard & Loeb (2012)](https://ui.adsabs.harvard.edu/#abs/2012RPPh...75h6901P/abstract). \n",
    "\n",
    "In this notebook we consider the simplest regime, when:\n",
    "* Spin temperature is completely coupled to the kinetic temperature.\n",
    "* Gas is heated homogeneously.\n",
    "\n",
    "I plan to make additional notebooks on comic dawn (when the spin temperature couples with gas temperature) later.\n",
    "\n",
    "___\n",
    "\n",
    "\n",
    "## Table of contents\n",
    "\n",
    "The tutorial consists of three notebooks.\n",
    "\n",
    "1. [The first notebook](#./01-Preparation.ipynb) is completely devoted to generating the density fields and halo catalogs that we will use later. Also, we look at the functions that allow to smooth the scalar fields with different filters and to calculate the power spectrum. This part of the tutorial has nothing about the reionization.\n",
    "\n",
    "\n",
    "\n",
    "2. In [painting the EoR](#Painting-the-EoR) we start to post-process the density field in order to mimic the ionization fronts.\n",
    " * The [simplest case](#Simplest-model), where only the ICs are used.\n",
    " * [More advanced case with halos](#Model-with-halos).\n",
    " \n",
    "\n",
    "3. Here we explore rarely used correction due to semi-neutral filaments inside ionizaed regions.\n",
    " \n",
    " * [Filaments](#Filaments) contribution to the 21cm power spectrum is very significant and with no doubt existing effect. We explored it in [Kaurov & Gnedin (2016)](https://ui.adsabs.harvard.edu/#abs/2016ApJ...824..114K/abstract) and [Kaurov 2016](https://ui.adsabs.harvard.edu/#abs/2016ApJ...831..198K/abstract).\n",
    " \n",
    " * [Filaments in the proximity of halos](#Filaments-in-the-proximity-of-halos) -- same as above but in the close proximity of the ionizing sources. These ideas are not published.\n",
    "\n",
    "\n",
    "4. In the last notebook we Brake spherical symmetry](#Breaking-spherical-symmetry).\n",
    "* [Bubbles in Lagrangian space](#Bubbles-in-Lagrangian-space) -- one can account for the large scale velocities in the IGM by considering bubbles in the Lagrangian space.\n",
    " * [Stochastic component](#Stochasticity) from asymmetry of ionization escape fraction and bursty star formation.\n",
    "\n"
   ]
  },
  {
   "cell_type": "code",
   "execution_count": null,
   "metadata": {
    "collapsed": true
   },
   "outputs": [],
   "source": []
  }
 ],
 "metadata": {
  "kernelspec": {
   "display_name": "Python (fastpm)",
   "language": "python",
   "name": "cfastpm"
  },
  "language_info": {
   "codemirror_mode": {
    "name": "ipython",
    "version": 3
   },
   "file_extension": ".py",
   "mimetype": "text/x-python",
   "name": "python",
   "nbconvert_exporter": "python",
   "pygments_lexer": "ipython3",
   "version": "3.5.4"
  }
 },
 "nbformat": 4,
 "nbformat_minor": 2
}
